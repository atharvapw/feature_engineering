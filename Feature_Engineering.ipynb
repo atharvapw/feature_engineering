{
  "nbformat": 4,
  "nbformat_minor": 0,
  "metadata": {
    "colab": {
      "provenance": []
    },
    "kernelspec": {
      "name": "python3",
      "display_name": "Python 3"
    },
    "language_info": {
      "name": "python"
    }
  },
  "cells": [
    {
      "cell_type": "markdown",
      "source": [
        "# ***Feature Engineering***\n",
        "\n",
        "1. What is a parameter?\n",
        "* A parameter is a value learned by a machine learning model during training. It defines the model’s behavior, like weights and biases in linear regression.\n",
        "\n",
        "2. What is correlation?\n",
        "* Correlation is a statistical measure that shows how two variables are related. It ranges from -1 to +1 and indicates the strength and direction of the relationship.\n",
        "\n",
        "3. What does negative correlation mean?\n",
        "* Negative correlation means that when one variable increases, the other decreases. Example: As price increases, demand decreases.\n",
        "\n",
        "4. Define Machine Learning. What are the main components in Machine Learning?\n",
        "* Machine Learning is a field where machines learn patterns from data to make decisions without explicit programming. Key components include data, features, model, training, evaluation, and prediction.\n",
        "\n",
        "5. How does loss value help in determining whether the model is good or not?\n",
        "* Loss value shows how far the model’s predictions are from the actual values. Lower loss means a better-performing model.\n",
        "\n",
        "6. What are continuous and categorical variables?\n",
        "* Continuous variables are numeric and measurable (e.g., height, salary). Categorical variables are labels or categories (e.g., gender, color).\n",
        "\n",
        "7. How do we handle categorical variables in Machine Learning? What are common techniques?\n",
        "* Categorical variables are converted into numeric form using encoding. Common techniques include Label Encoding and One-Hot Encoding.\n",
        "\n",
        "8. What do you mean by training and testing a dataset?\n",
        "* Training data is used to teach the model, while testing data is used to check how well the model performs on unseen data.\n",
        "\n",
        "9. What is sklearn.preprocessing?\n",
        "* sklearn.preprocessing is a module in scikit-learn that provides tools for feature scaling, encoding, and transforming data.\n",
        "\n",
        "10. What is a Test set?\n",
        "* A test set is a portion of data used to evaluate the model after training, ensuring it generalizes well to new data.\n",
        "\n",
        "11. How do we split data for model fitting (training and testing) in Python?\n",
        "* We use train_test_split() from sklearn.model_selection. Example:\n",
        "X_train, X_test, y_train, y_test = train_test_split(X, y, test_size=0.2)\n",
        "\n",
        "12. How do you approach a Machine Learning problem?\n",
        "Steps include understanding the problem, collecting data, cleaning data, EDA, feature engineering, model selection, training, evaluation, and deployment.\n",
        "\n",
        "13. Why do we perform EDA before fitting a model to the data?\n",
        "* EDA helps understand the data distribution, detect missing values, spot outliers, and find relationships among variables.\n",
        "\n",
        "14. What is correlation?\n",
        "* Correlation is a metric to measure the relationship between two variables. It can be positive, negative, or zero.\n",
        "\n",
        "15. What does negative correlation mean?\n",
        "* Negative correlation means one variable increases while the other decreases.\n",
        "\n",
        "16. How can you find correlation between variables in Python?\n",
        "* We use .corr() function in pandas. Example: data.corr() gives the correlation matrix.\n",
        "\n",
        "17. What is causation? Explain difference between correlation and causation with an example.\n",
        "* Causation means one variable directly affects another. Correlation only shows a relationship.\n",
        "* Example: Ice cream sales and drowning deaths are correlated but ice cream does not cause drowning.\n",
        "\n",
        "18. What is an Optimizer? What are different types of optimizers?\n",
        "* An optimizer updates model parameters to reduce loss. Common optimizers are Gradient Descent, Adam, RMSProp, and SGD.\n",
        "\n",
        "19. What is sklearn.linear_model?\n",
        "* It is a module in scikit-learn that provides linear models like Linear Regression, Logistic Regression, and Ridge Regression.\n",
        "\n",
        "20. What does model.fit() do? What arguments must be given?\n",
        "* model.fit() trains the model using training data. It requires features X and labels y.\n",
        "\n",
        "21. What does model.predict() do? What arguments must be given?\n",
        "* model.predict() generates predictions on new/unseen data. It takes input features X_test.\n",
        "\n",
        "22. What is feature scaling? How does it help in Machine Learning?\n",
        "* Feature scaling standardizes feature values to a common scale. It improves model accuracy and training speed, especially for distance-based models.\n",
        "\n",
        "23. How do we perform scaling in Python?\n",
        "* Using StandardScaler or MinMaxScaler from sklearn.preprocessing.\n",
        "Example: scaler.fit_transform(X).\n",
        "\n",
        "24. Explain data encoding.\n",
        "* Data encoding converts categorical values into numeric form so ML models can process them. Examples include Label Encoding and One-Hot Encoding.\n",
        "\n",
        "25. What is sklearn.preprocessing?\n",
        "* It is a module used for preparing data before model training, including scaling, encoding, normalization, and transformation."
      ],
      "metadata": {
        "id": "Bt8bD77hQ7zQ"
      }
    },
    {
      "cell_type": "code",
      "execution_count": null,
      "metadata": {
        "id": "Mf04y9QiQ6BE"
      },
      "outputs": [],
      "source": []
    }
  ]
}